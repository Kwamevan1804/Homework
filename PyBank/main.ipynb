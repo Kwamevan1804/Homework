{
 "cells": [
  {
   "cell_type": "code",
   "execution_count": 5,
   "metadata": {},
   "outputs": [
    {
     "name": "stdout",
     "output_type": "stream",
     "text": [
      "/Users/kwamevanleeuwen/Bootcamp\n"
     ]
    }
   ],
   "source": [
    "from pathlib import Path\n",
    "print(Path.cwd())"
   ]
  },
  {
   "cell_type": "code",
   "execution_count": 63,
   "metadata": {},
   "outputs": [
    {
     "name": "stdout",
     "output_type": "stream",
     "text": [
      "\n",
      "Financial Analysis\n",
      "---------------------------------\n",
      "Total months: 86\n",
      "Total p&l: $38382578\n",
      "Average change in p&l: $-2315.12\n",
      "Greatest Increase in Profits: Feb-2012 ($1926159)\n",
      "Greatest Decrease in Profits: Sep-2013 ($-2196167)\n"
     ]
    }
   ],
   "source": [
    "# Assess total no of months included in the dataset\n",
    "# Import modules\n",
    "from pathlib import Path\n",
    "import csv\n",
    "\n",
    "# Set filepath\n",
    "filepath = Path('cu-nyc-fin-pt-12-2020-u-c/02-Homework/02-Python/Instructions/PyBank/Resources/budget_data.csv')\n",
    "\n",
    "# initialize list to hold table records\n",
    "records = []\n",
    "\n",
    "# open the csv file as an object\n",
    "with open(filepath, 'r') as csvfile:\n",
    "\n",
    "    # create a csv reader object\n",
    "    csvreader = csv.reader(csvfile, delimiter=',')\n",
    "    \n",
    "    # read the header row\n",
    "    header = next(csvreader)\n",
    "    \n",
    "    # append header change in P&L\n",
    "    header.append('Change Profits/Losses')\n",
    "\n",
    "    # append header to the list of records\n",
    "    records.append(header)\n",
    "    \n",
    "    # Initialize variables\n",
    "    month = 0\n",
    "    net_total_pnl = 0\n",
    "    tot_change_pnl = 0\n",
    "    average_change_pnl = 0\n",
    "    max_increase_pnl = 0\n",
    "    max_decrease_pnl = 0\n",
    "    max_increase_pnl_date = 0\n",
    "    max_decrease_pnl_date = 0\n",
    "    \n",
    "    # for loop to count no of months included in csv file\n",
    "    for row in csvreader:\n",
    "\n",
    "        # assess net total amount of Profit/Losses over the entire period\n",
    "        # convert relevant string to int\n",
    "        \n",
    "        pnl = int(row[1])\n",
    "        \n",
    "        # add month pnl to total pnl\n",
    "        net_total_pnl += pnl\n",
    "            \n",
    "        # append change in p&l after 1st month to row\n",
    "        if month > 0:\n",
    "             last_month_pnl = int(records[month][1])\n",
    "             change_pnl = pnl - last_month_pnl\n",
    "             row.append(change_pnl)\n",
    "             tot_change_pnl += change_pnl\n",
    "        \n",
    "        # add updated row to records\n",
    "        records.append(row)\n",
    "        \n",
    "        # check max increase/decrease pnl\n",
    "        if month == 1:\n",
    "            max_decrease_pnl = change_pnl\n",
    "            max_decrease_pnl_date = row[0]\n",
    "        elif change_pnl < max_decrease_pnl:\n",
    "            max_decrease_pnl = change_pnl\n",
    "            max_decrease_pnl_date = row[0]\n",
    "        elif change_pnl > max_increase_pnl:\n",
    "            max_increase_pnl = change_pnl\n",
    "            max_increase_pnl_date = row[0]\n",
    "\n",
    "            # increase month teller\n",
    "        month += 1\n",
    "        \n",
    "    # calculate average change in p&l\n",
    "    average_change_pnl = round(tot_change_pnl / (month-1), 2)\n",
    "    \n",
    "    # print summary stats\n",
    "    print()\n",
    "    print(f\"Financial Analysis\")\n",
    "    print(f\"---------------------------------\")\n",
    "    print(f\"Total months: {months}\")\n",
    "    print(f\"Total p&l: ${net_total_pnl}\")\n",
    "    print(f\"Average change in p&l: ${average_change_pnl}\")\n",
    "    print(f\"Greatest Increase in Profits: {max_increase_pnl_date} (${max_increase_pnl})\")\n",
    "    print(f\"Greatest Decrease in Profits: {max_decrease_pnl_date} (${max_decrease_pnl})\")\n",
    "\n",
    "    # export summary stats to text file\n",
    "    # set the output file path\n",
    "    output_path = Path(\"cu-nyc-fin-pt-12-2020-u-c/02-Homework/02-Python/Instructions/PyBank/Resources/output.txt\")\n",
    "    \n",
    "    # open the output path as an object\n",
    "    with open(output_path, 'w') as file:\n",
    "    \n",
    "        # write summary stats\n",
    "        file.write(f\"Financial Analysis\\n\")\n",
    "        file.write(f\"---------------------------------\\n\")\n",
    "        file.write(f\"Total months: {months}\\n\")\n",
    "        file.write(f\"Total p&l: ${net_total_pnl}\\n\")\n",
    "        file.write(f\"Average change in p&l: ${average_change_pnl}\\n\")\n",
    "        file.write(f\"Greatest Increase in Profits: {max_increase_pnl_date} (${max_increase_pnl})\\n\")\n",
    "        file.write(f\"Greatest Decrease in Profits: {max_decrease_pnl_date} (${max_decrease_pnl})\\n\")    \n",
    "    "
   ]
  },
  {
   "cell_type": "code",
   "execution_count": null,
   "metadata": {},
   "outputs": [],
   "source": []
  }
 ],
 "metadata": {
  "kernelspec": {
   "display_name": "Python 3",
   "language": "python",
   "name": "python3"
  },
  "language_info": {
   "codemirror_mode": {
    "name": "ipython",
    "version": 3
   },
   "file_extension": ".py",
   "mimetype": "text/x-python",
   "name": "python",
   "nbconvert_exporter": "python",
   "pygments_lexer": "ipython3",
   "version": "3.8.5"
  }
 },
 "nbformat": 4,
 "nbformat_minor": 4
}
