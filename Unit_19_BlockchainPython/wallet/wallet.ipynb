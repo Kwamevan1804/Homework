{
 "cells": [
  {
   "cell_type": "code",
   "execution_count": 1,
   "metadata": {},
   "outputs": [
    {
     "name": "stderr",
     "output_type": "stream",
     "text": [
      "Python-dotenv could not parse statement starting at line 3\n"
     ]
    }
   ],
   "source": [
    "# Import dependencies\n",
    "import subprocess\n",
    "import json\n",
    "from dotenv import load_dotenv\n",
    "import os\n",
    "from web3 import Web3, HTTPProvider\n",
    "from web3.middleware import geth_poa_middleware\n",
    "from eth_account import Account\n",
    "from bit import PrivateKeyTestnet, PrivateKey, wif_to_key\n",
    "from bit.network import NetworkAPI\n",
    "\n",
    "# Load and set environment variables\n",
    "load_dotenv(\"keys.env\")\n",
    "mnem_user = os.getenv(\"MNEMONIC\")\n",
    "\n",
    "# Import constants.py and necessary functions from bit and web3\n",
    "from constants import *"
   ]
  },
  {
   "cell_type": "code",
   "execution_count": 2,
   "metadata": {},
   "outputs": [],
   "source": [
    "# establish ETH connection\n",
    "w3 = Web3(Web3.HTTPProvider(\"http://127.0.0.1:8545\"))\n",
    "w3.middleware_onion.inject(geth_poa_middleware, layer=0)"
   ]
  },
  {
   "cell_type": "code",
   "execution_count": 3,
   "metadata": {},
   "outputs": [],
   "source": [
    "# Create a function called `derive_wallets`\n",
    "def derive_wallets(crypto):\n",
    "    command = './derive -g --mnemonic=mnem_user --cols=address,index,path,privkey,pubkey,pubkeyhash,xprv,xpub --format=json --coin={} --numderive=3'.format(crypto)\n",
    "    p = subprocess.Popen(command, stdout=subprocess.PIPE, shell=True)\n",
    "    output, err = p.communicate()\n",
    "    p_status = p.wait()\n",
    "    return json.loads(output)"
   ]
  },
  {
   "cell_type": "code",
   "execution_count": 4,
   "metadata": {},
   "outputs": [
    {
     "data": {
      "text/plain": [
       "{'btctest': [{'address': 'mmFJr4Yw2BBbw9UhnpcAPfd5PJ15YcPA7U',\n",
       "   'index': 0,\n",
       "   'path': \"m/44'/1'/0'/0/0\",\n",
       "   'privkey': 'cUgTQ9A65vMLMc7vhdKprdWkvmba5fYPpByv9twd6YsNEfJ793bQ',\n",
       "   'pubkey': '0250a50e4fa706741e1d31377dd55f924e328f4857ccdf9ec3151c2b66fff2f24d',\n",
       "   'pubkeyhash': '3edb415129c56aaa22b78e66004f563452750bb2',\n",
       "   'xprv': 'tprv8k1mxJukzjUFUaqFSujB4ZgTCFn5xv9CAE5njBAWW9LcVrU5YoytyrqA6E1A8xB4DAovHQX26xfvs9JQ3t3oyBJqTVzyHoTqBZeJ1zjexhU',\n",
       "   'xpub': 'tpubDGhp6ix1979vN3s3LZPmTyLZmHJ28FL6jXga1hCovR91LLirBCoVAMT2GKxHMNeyquX69nQG6GfQVydK7qeJ7GcCkrMXzk5KzUuFGjFCh9m'},\n",
       "  {'address': 'n3knqtx6N9DZzNZ1u84vQCBRJafHx5Xv59',\n",
       "   'index': 1,\n",
       "   'path': \"m/44'/1'/0'/0/1\",\n",
       "   'privkey': 'cPNy7qvGf9Z1kC3JaYxGDF7jMpnAMM86G7oZL7HtKEEoBzrubvrJ',\n",
       "   'pubkey': '03e2ada5948ded5f3cee3f1f94b4cdd900e99433f518f1d2d6f7c0ea4294b5558e',\n",
       "   'pubkeyhash': 'f3f0b3901ac80efd186f259fd392c85d548d244a',\n",
       "   'xprv': 'tprv8k1mxJukzjUFWYKDctH5nzQjePR4mm15Y3fVmuUf9DY4YHkMar5CkiADxuAvrapr7qUC3TZ8NNrURjuBBRMaqSvqVu7c6kvoFH3igjZyMUa',\n",
       "   'xpub': 'tpubDGhp6ix1979vQ1M1WXwgCQ4rDQvzw6Bz7MGH4RWxZVLTNn18DEtnwCn695Nn4FPL3NimSiNa3GEt6GMpJfLHfqzNuhRSMvuXS9JKFVDYedb'},\n",
       "  {'address': 'mg9yMe3PW9vauyZgezfcTuPGkpusoNAtW2',\n",
       "   'index': 2,\n",
       "   'path': \"m/44'/1'/0'/0/2\",\n",
       "   'privkey': 'cNh2WMzmEyycHxCLU2TDJPG9ZYM2NbpnPjpzrhHzddjUxYVSdRmc',\n",
       "   'pubkey': '026257dd7cf694c00b97058cc6578edf822fb439b50fe532003304689c38244f63',\n",
       "   'pubkeyhash': '070046e601bc9649d3b10202dfca550ff6018f41',\n",
       "   'xprv': 'tprv8k1mxJukzjUFZ7TeHHFzyna3jbC2Z9DEYUbMV65ywonRobSvP8V3TExHP3btzYdw2EVQsjMojLtknDNhz4QERtoEwDEEaBa1hXXwN6vRobm',\n",
       "   'xpub': 'tpubDGhp6ix1979vSaVSAvvbPCEAJchxiUQ97nC8mc8HN5ape5hh1XJddja9ZB3Xj9iww6ujeCf1wfGBFcZKqZGV3kfv5fGVQpECqatPCjmYuNL'}],\n",
       " 'eth': [{'address': '0x11F86C79f55a28774Ec78AaF7F6C5cD8204eFC64',\n",
       "   'index': 0,\n",
       "   'path': \"m/44'/60'/0'/0/0\",\n",
       "   'privkey': '0xcc0ca6d311a2029a64ad09def4793c90a18f088e59406f312ee190d74f7dacea',\n",
       "   'pubkey': '03a8ecb89085fbde6face4586281638685cb661181dc53c0a08584734963852341',\n",
       "   'pubkeyhash': 'f4fab4329e959119a1aaf5a57d03f38e9beb8037',\n",
       "   'xprv': 'xprvA3mWUgB8inTSZjLXPyxK7E2F6ounwrveM4aGDv26j4bbUyiUQS4hg3CU31yDtnzdTen3ZcwqCirUGBwT85hhCRHhAviPpQWnnZLRvBzEtkv',\n",
       "   'xpub': 'xpub6GkrtBi2ZA1jnDQzW1VKUMxyeqkHMKeViHVs2JRiHQ8aMn3cwyNxDqWwtJgGJFN7xZfAPBYNEw1EiXsCd2u7mZUwnvbeXz3QgwBPzr7DDzi'},\n",
       "  {'address': '0x60Ef93b2493B10bF60A459C61466b767ECa75Fc7',\n",
       "   'index': 1,\n",
       "   'path': \"m/44'/60'/0'/0/1\",\n",
       "   'privkey': '0xdbcdc98717b794159e22fb2b007105dc3dba451e0e3ffb566baa7d38c74ee0fc',\n",
       "   'pubkey': '0341e0146a9aed998b7680313efd1046a7231956f198b086f31c591f715e74490d',\n",
       "   'pubkeyhash': 'd46ec4328e3aef752aa8f1d4fa24fcf28607a826',\n",
       "   'xprv': 'xprvA3mWUgB8inTSaKVzB3tUaZAW9CmtvzDHo3SEpzWp7qXcBL3C2dTPe8vdRjqtmjjyPrsbwM3ywEY4bu1BPx5in8H9JzAdC7mEHRNog6ZZUgS',\n",
       "   'xpub': 'xpub6GkrtBi2ZA1jnoaTH5RUwh7EhEcPLSw9AGMqdNvRgB4b48NLaAmeBwF7H1ecVX5xPSBwktywnrp5UiaGPTgM9zVPw4NfxKekwypFyctmMUh'},\n",
       "  {'address': '0x6883aE880fAA6a90F73E8559604A1DC407D9B775',\n",
       "   'index': 2,\n",
       "   'path': \"m/44'/60'/0'/0/2\",\n",
       "   'privkey': '0xe1444e99f2ea4254ca7018e9c0399a4cb9444a583b5e4f7fde63843fab68dafa',\n",
       "   'pubkey': '021d2a9a3cd585ec4a32c1424fd41c9b22e2aff1dda82fc8af28acf336188766cb',\n",
       "   'pubkeyhash': '1689a0c248a55199ef0cade91f6501c7214cfd27',\n",
       "   'xprv': 'xprvA3mWUgB8inTScvb6B3agdrioFFbrBoX26m9mGMrRTZ7cCYzE4f2iPqdE246zKRqPWoypfTVtAojYzmGjRuCCeRq4916tiTb3GDWbeyw5VSV',\n",
       "   'xpub': 'xpub6GkrtBi2ZA1jqQfZH57gzzfXoHSLbGEsTz5N4kG31teb5MKNcCLxwdwhsHePe1MbHXKmocWCFfQE7mNPNLH794mMKmJnsXr4KQ2RgRPiVok'}],\n",
       " 'btc': [{'address': '18jxXE8iyBtBbDLbrgNXdsWzB739usCy7X',\n",
       "   'index': 0,\n",
       "   'path': \"m/44'/0'/0'/0/0\",\n",
       "   'privkey': 'KwgbQfEN98qQGuco8LKphyT4Ua91oyhd5w9BUFfJ9DEJyfcnzot3',\n",
       "   'pubkey': '03c0b598c5ce212f727bf0c881bf0f4a2b2edcc0cce5a98accae5ce9efe19ce7bd',\n",
       "   'pubkeyhash': '54e8b295e628af333c5667540eefef3a727b67d4',\n",
       "   'xprv': 'xprvA3y2BBymmZd4rYqqQuLghK54wwZydSxU2nqhEDT2q9kwtMpm7QXW1erj9Dkv5Pwe8UZLau1ybeVqZZf4nTVEV56nMVhwowHZreNAHuEUN3K',\n",
       "   'xpub': 'xpub6GxNahWfbwBN52vJWvsh4T1oVyQU2ugKQ1mJ2brePVHvmA9uewqkZTBCzY6CwCnJPmGtFwQnop8rKZnNi7MgJ61qmHtrpFPtzc2dXc84d6k'},\n",
       "  {'address': '16rvMkR5fUXy2itn1Q7fP7Chc2v6MBZqf',\n",
       "   'index': 1,\n",
       "   'path': \"m/44'/0'/0'/0/1\",\n",
       "   'privkey': 'L46pAUrYm4LMmZ9ETFV2Y1kScbjnr1gD2xRzZLcuCDzo1VzPzTS1',\n",
       "   'pubkey': '038eaf8a04dceb521e41084fc1a77c6bd84aebd167948cf395a4f1ac8b0de0c921',\n",
       "   'pubkeyhash': '011bc03a932c1ee0c8e75d4f408878fb8cd8de8e',\n",
       "   'xprv': 'xprvA3y2BBymmZd4roTgb3DfNAPKXA4ecB1tvNV7koquTp3y6PwjMMwcbMWJBXLtBJPnnwNKqqMJr4eLXzx7dmeq1WopK4GRGc4BbtJBeC8DVNm',\n",
       "   'xpub': 'xpub6GxNahWfbwBN5HY9h4kfjJL45Bu91djkHbQiZCFX29awyCGstuFs99pn2oqp3hiY74dGUxddwAHDFHGZQY67dRdZwjmsyqCYCSQog3kGUAi'},\n",
       "  {'address': '15HvCRQ6U8QDXnfRHRdm4bojvTgeEPyTgT',\n",
       "   'index': 2,\n",
       "   'path': \"m/44'/0'/0'/0/2\",\n",
       "   'privkey': 'L1dd3hPD2wLHUWDYdeeZYsXv2gJqfCsUCNwueMuwU4rWfgSVb4Z3',\n",
       "   'pubkey': '0325e2acdeb8f17769c6ebef685e90831064c5cd74e82c584f4bab5f83f7beb73f',\n",
       "   'pubkeyhash': '2f1390a82cf552a08758b6e926848467b4328930',\n",
       "   'xprv': 'xprvA3y2BBymmZd4vg5n446fmaXBeGsCS2Srhj5SWZE9gJnwkGvMJRfJSK4LE8SEwFKFXQVkKBhF9fKwjcconXDNaorvqMizHV7Cthr77bVbWfX',\n",
       "   'xpub': 'xpub6GxNahWfbwBN9AAFA5dg8iTvCJhgqVAi4x13JwdmEeKvd5FVqxyYz7Np5QhTT8wzK7exQtwaj6VJd2NZ9kq2wwv4BwPNLnwyJeGYXTE1Ziz'}]}"
      ]
     },
     "execution_count": 4,
     "metadata": {},
     "output_type": "execute_result"
    }
   ],
   "source": [
    "coins = {'btctest': derive_wallets(BTCTEST), 'eth': derive_wallets(ETH), 'btc': derive_wallets(BTC)}\n",
    "coins"
   ]
  },
  {
   "cell_type": "code",
   "execution_count": 5,
   "metadata": {},
   "outputs": [],
   "source": [
    "# Create a function called `priv_key_to_account` that converts privkey strings to account objects.\n",
    "def priv_key_to_account(coin, priv_key):\n",
    "    if coin == ETH:\n",
    "        return Account.privateKeyToAccount(priv_key)\n",
    "    elif coin == BTCTEST or coin == BTC:\n",
    "        return PrivateKeyTestnet(priv_key)\n",
    "    else:\n",
    "        print(\"Invalid coin type\")"
   ]
  },
  {
   "cell_type": "code",
   "execution_count": 6,
   "metadata": {},
   "outputs": [],
   "source": [
    "# Create a function called `create_tx` that creates an unsigned transaction appropriate metadata.\n",
    "def create_tx(coin, account, to, amount):\n",
    "    if coin == ETH:\n",
    "        gasEstimate = w3.eth.estimateGas(\n",
    "        {\"from\": account.address, \"to\": to, \"value\": amount}\n",
    "        )\n",
    "        return {\n",
    "            \"from\": account.address,\n",
    "            \"to\": to,\n",
    "            \"value\": amount,\n",
    "            \"gasPrice\": w3.eth.gasPrice,\n",
    "            \"gas\": gasEstimate,\n",
    "            \"nonce\": w3.eth.getTransactionCount(account.address),\n",
    "#             \"chainID\": 2022\n",
    "        }\n",
    "    elif coin == BTCTEST or coin == BTC:\n",
    "        return PrivateKeyTestnet.prepare_transaction(account.address, \n",
    "                                                     [(to, amount, BTC)])\n",
    "    else:\n",
    "        print(\"Invalid coin\")"
   ]
  },
  {
   "cell_type": "code",
   "execution_count": 7,
   "metadata": {},
   "outputs": [],
   "source": [
    "# Create a function called `send_tx` that calls `create_tx`, signs and sends the transaction.\n",
    "def send_tx(coin, account, to, amount):\n",
    "    raw_tx = create_tx(coin, account, to, amount)\n",
    "    if coin == ETH:\n",
    "        signed = account.sign_transaction(raw_tx)\n",
    "        return w3.eth.sendRawTransaction(signed.rawTransaction)\n",
    "    elif coin == BTCTEST or coin == BTC:        \n",
    "        signed = account.sign_transaction(raw_tx)\n",
    "        return NetworkAPI.broadcast_tx_testnet(signed)\n",
    "    else:\n",
    "        print(\"Invalid coin\")\n",
    "    print(result.hex())    \n",
    "    return result.hex()    "
   ]
  },
  {
   "cell_type": "code",
   "execution_count": 175,
   "metadata": {},
   "outputs": [],
   "source": [
    "# BTCTEST tx\n",
    "ac = priv_key_to_account(BTCTEST, coins['btctest'][2]['privkey'])\n",
    "ad = coins['btctest'][1]['address']\n",
    "send_tx(BTCTEST, ac, ad, 0.0001)"
   ]
  },
  {
   "cell_type": "code",
   "execution_count": 139,
   "metadata": {},
   "outputs": [
    {
     "data": {
      "text/plain": [
       "HexBytes('0x0329fb114fb577ff8d836db0a1ebe38206d790b4303160296bdf9bc61d1d754e')"
      ]
     },
     "execution_count": 139,
     "metadata": {},
     "output_type": "execute_result"
    }
   ],
   "source": [
    "# ETH tx\n",
    "ac = priv_key_to_account(ETH, coins['eth'][0]['privkey'])\n",
    "ad = coins['eth'][1]['address']\n",
    "send_tx(ETH, ac, ad, 100)"
   ]
  },
  {
   "cell_type": "code",
   "execution_count": 8,
   "metadata": {},
   "outputs": [],
   "source": [
    "# function to get address balances\n",
    "def balances(coin, address, privkey):\n",
    "    if coin == ETH:\n",
    "        return w3.eth.getBalance(address)\n",
    "    elif coin == BTCTEST or coin == BTC: \n",
    "        key = PrivateKeyTestnet(privkey)\n",
    "        return key.get_balance()"
   ]
  },
  {
   "cell_type": "code",
   "execution_count": 9,
   "metadata": {},
   "outputs": [
    {
     "data": {
      "text/plain": [
       "'3990381'"
      ]
     },
     "execution_count": 9,
     "metadata": {},
     "output_type": "execute_result"
    }
   ],
   "source": [
    "balances(BTCTEST, coins['btctest'][2]['address'], coins['btctest'][2]['privkey'])"
   ]
  },
  {
   "cell_type": "code",
   "execution_count": 10,
   "metadata": {},
   "outputs": [],
   "source": [
    "# function to get ETH transaction status\n",
    "def tx_status(txid):\n",
    "    return w3.eth.getTransaction(txid)"
   ]
  },
  {
   "cell_type": "code",
   "execution_count": 11,
   "metadata": {},
   "outputs": [
    {
     "data": {
      "text/plain": [
       "AttributeDict({'hash': HexBytes('0x0329fb114fb577ff8d836db0a1ebe38206d790b4303160296bdf9bc61d1d754e'),\n",
       " 'nonce': 0,\n",
       " 'blockHash': HexBytes('0x394b896e85fd6f50650c34fcc6b207958b42f65d27e4b6c869af08925c3ee688'),\n",
       " 'blockNumber': 2,\n",
       " 'transactionIndex': 0,\n",
       " 'from': '0x11F86C79f55a28774Ec78AaF7F6C5cD8204eFC64',\n",
       " 'to': '0x60Ef93b2493B10bF60A459C61466b767ECa75Fc7',\n",
       " 'value': 100,\n",
       " 'gas': 21000,\n",
       " 'gasPrice': 20000000000,\n",
       " 'input': '0x',\n",
       " 'v': 27,\n",
       " 'r': HexBytes('0xbfaa1dee707d7302879778177ac40adc561cc3c350b5a633a64777775f9d4df9'),\n",
       " 's': HexBytes('0x020e945ae6c39ea2a7a98d3bd8b061c4443681b1f7fc3b8b5506848d44806523')})"
      ]
     },
     "execution_count": 11,
     "metadata": {},
     "output_type": "execute_result"
    }
   ],
   "source": [
    "tx_status(0x0329fb114fb577ff8d836db0a1ebe38206d790b4303160296bdf9bc61d1d754e)"
   ]
  }
 ],
 "metadata": {
  "kernelspec": {
   "display_name": "Python 3",
   "language": "python",
   "name": "python3"
  },
  "language_info": {
   "codemirror_mode": {
    "name": "ipython",
    "version": 3
   },
   "file_extension": ".py",
   "mimetype": "text/x-python",
   "name": "python",
   "nbconvert_exporter": "python",
   "pygments_lexer": "ipython3",
   "version": "3.7.9"
  }
 },
 "nbformat": 4,
 "nbformat_minor": 4
}
